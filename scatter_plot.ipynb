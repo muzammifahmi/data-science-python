{
  "nbformat": 4,
  "nbformat_minor": 0,
  "metadata": {
    "colab": {
      "provenance": [],
      "toc_visible": true,
      "authorship_tag": "ABX9TyOwffGC43jNmd55zCsSzOnl",
      "include_colab_link": true
    },
    "kernelspec": {
      "name": "python3",
      "display_name": "Python 3"
    },
    "language_info": {
      "name": "python"
    }
  },
  "cells": [
    {
      "cell_type": "markdown",
      "metadata": {
        "id": "view-in-github",
        "colab_type": "text"
      },
      "source": [
        "<a href=\"https://colab.research.google.com/github/muzammifahmi/data-science-python/blob/main/scatter_plot.ipynb\" target=\"_parent\"><img src=\"https://colab.research.google.com/assets/colab-badge.svg\" alt=\"Open In Colab\"/></a>"
      ]
    },
    {
      "cell_type": "markdown",
      "source": [
        "# Diagram Pencar (Scatter Plot)"
      ],
      "metadata": {
        "id": "0-KgqJ4AvAZ8"
      }
    },
    {
      "cell_type": "code",
      "execution_count": 1,
      "metadata": {
        "colab": {
          "base_uri": "https://localhost:8080/",
          "height": 34
        },
        "id": "vnf5UT4iu6dA",
        "outputId": "aaa42ad7-9cdd-42cf-c863-8ab2ae0b3b99"
      },
      "outputs": [
        {
          "output_type": "display_data",
          "data": {
            "text/plain": [
              "<Figure size 640x480 with 0 Axes>"
            ]
          },
          "metadata": {}
        }
      ],
      "source": [
        "import numpy as np\n",
        "import pandas as pd\n",
        "import matplotlib.pyplot as plt\n",
        "plt.clf()"
      ]
    },
    {
      "cell_type": "code",
      "source": [
        "raw_data = pd.read_csv(\"https://storage.googleapis.com/dqlab-dataset/dataset_statistic.csv\", sep = ';')\n",
        "print(raw_data)"
      ],
      "metadata": {
        "colab": {
          "base_uri": "https://localhost:8080/"
        },
        "id": "Xg5XmkDhvZTi",
        "outputId": "0c47f96f-5ade-407b-b30f-f582fc9fdda0"
      },
      "execution_count": 3,
      "outputs": [
        {
          "output_type": "stream",
          "name": "stdout",
          "text": [
            "    ID Pelanggan     Nama  Jenis Kelamin  Pendapatan Produk   Harga  Jumlah   \\\n",
            "0              1     Arif              1      600000      A  100000        4   \n",
            "1              2     Dian              2     1200000      D  250000        4   \n",
            "2              3    Dinda              2      950000      D  250000        3   \n",
            "3              4    Fajar              1      400000      A  100000        2   \n",
            "4              5      Ika              2     1200000      D  250000        4   \n",
            "5              6    Ilham              1      800000      B  150000        4   \n",
            "6              7    Indra              1      950000      B  150000        5   \n",
            "7              8  Kartika              2     1100000      E  300000        3   \n",
            "8              9  Lestari              2      800000      E  300000        2   \n",
            "9             10      Lia              2     1700000      E  300000        5   \n",
            "10            11    Maria              2      600000      A  100000        4   \n",
            "11            12     Maya              2      950000      B  150000        5   \n",
            "12            13     Mila              2      400000      C  200000        1   \n",
            "13            14    Nurul              2     6450000      D  250000        5   \n",
            "14            15    Retno              2     1000000      C  200000        4   \n",
            "15            16     Rini              2      800000      B  150000        4   \n",
            "16            17    Rizki              1     1200000      C  200000        5   \n",
            "17            18     Sari              2      700000      D  250000        2   \n",
            "18            19     Tyas              2      600000      A  100000        4   \n",
            "19            20    Wahyu              1      800000      C  200000        3   \n",
            "\n",
            "      Total  Tingkat Kepuasan  \n",
            "0    400000                 2  \n",
            "1   1000000                 2  \n",
            "2    750000                 3  \n",
            "3    200000                 3  \n",
            "4   1000000                 2  \n",
            "5    600000                 3  \n",
            "6    750000                 1  \n",
            "7    900000                 3  \n",
            "8    600000                 1  \n",
            "9   1500000                 1  \n",
            "10   400000                 3  \n",
            "11   750000                 3  \n",
            "12   200000                 2  \n",
            "13  1250000                 1  \n",
            "14   800000                 2  \n",
            "15   600000                 1  \n",
            "16  1000000                 3  \n",
            "17   500000                 1  \n",
            "18   400000                 3  \n",
            "19   600000                 1  \n"
          ]
        }
      ]
    },
    {
      "cell_type": "code",
      "source": [
        "plt.figure()"
      ],
      "metadata": {
        "colab": {
          "base_uri": "https://localhost:8080/",
          "height": 52
        },
        "id": "ahFw6WKFvsJn",
        "outputId": "3551ca64-5197-48b5-c3fc-287cafe01ca3"
      },
      "execution_count": 5,
      "outputs": [
        {
          "output_type": "execute_result",
          "data": {
            "text/plain": [
              "<Figure size 640x480 with 0 Axes>"
            ]
          },
          "metadata": {},
          "execution_count": 5
        },
        {
          "output_type": "display_data",
          "data": {
            "text/plain": [
              "<Figure size 640x480 with 0 Axes>"
            ]
          },
          "metadata": {}
        }
      ]
    },
    {
      "cell_type": "markdown",
      "source": [
        "## visualisasi diagram pencar untuk variabel 'Pendapatan' dan 'Total' menggunakan 'plot.scatter' dari pandas"
      ],
      "metadata": {
        "id": "S9CBkdVzv1A1"
      }
    },
    {
      "cell_type": "code",
      "source": [
        "raw_data.plot.scatter(x = 'Pendapatan', y = 'Total')\n",
        "plt.title('plot.scatter', size = 14)\n",
        "plt.tight_layout()\n",
        "plt.show()"
      ],
      "metadata": {
        "colab": {
          "base_uri": "https://localhost:8080/",
          "height": 487
        },
        "id": "MzM0huEEvz2t",
        "outputId": "fddef67a-6f23-4e4e-f423-3d5b10895972"
      },
      "execution_count": 6,
      "outputs": [
        {
          "output_type": "display_data",
          "data": {
            "text/plain": [
              "<Figure size 640x480 with 1 Axes>"
            ],
            "image/png": "[encoded data removed]"
          },
          "metadata": {}
        }
      ]
    },
    {
      "cell_type": "markdown",
      "source": [
        "## visualisasi diagram pencar untuk variabel 'Pendapatan' dan 'Total' menggunakan 'plt.scatter' dari matplotlib"
      ],
      "metadata": {
        "id": "Dp_99DujwN9w"
      }
    },
    {
      "cell_type": "code",
      "source": [
        "plt.scatter(x=\"Pendapatan\", y=\"Total\", data=raw_data)\n",
        "plt.title('plt.scatter dari matplotlib', size=14)\n",
        "plt.tight_layout()\n",
        "plt.show()"
      ],
      "metadata": {
        "colab": {
          "base_uri": "https://localhost:8080/",
          "height": 487
        },
        "id": "v2G2z8XFwQYg",
        "outputId": "be38a9bc-4f43-4617-ad88-a8075bbcc72e"
      },
      "execution_count": 7,
      "outputs": [
        {
          "output_type": "display_data",
          "data": {
            "text/plain": [
              "<Figure size 640x480 with 1 Axes>"
            ],
            "image/png": "[encoded data removed]"
          },
          "metadata": {}
        }
      ]
    }
  ]
}