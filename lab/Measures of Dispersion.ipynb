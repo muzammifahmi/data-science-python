{
 "cells": [
  {
   "cell_type": "markdown",
   "id": "da44d1c6",
   "metadata": {},
   "source": [
    "# Measures of Dispersion"
   ]
  },
  {
   "cell_type": "markdown",
   "id": "84cb1aaa",
   "metadata": {},
   "source": [
    "## Ukuran sebaran (measure of dispersion) adalah statistika deskriptif yang digunakan untuk membantu kita memahami sebaran titik data di dalam sebuah sampel ataupun populasi.\n",
    "\n",
    "Terdapat beberapa ukuran sebaran yang biasanya digunakan tergantung pada jenis atau tipe datanya, yaitu:\n",
    "\n",
    "Tipe Data Nominal dan Ordinal\n",
    "Proporsi Kategori (Categorical Proportion)\n",
    "Persen Proporsi (Percent Proportion)\n",
    "Rasio Variasi (Variation Ratio)\n",
    "Tipe Data Interval dan Rasio\n",
    "Rentang (Range)\n",
    "Variansi (Variance)\n",
    "Deviasi Baku (Standard Deviation)\n"
   ]
  },
  {
   "cell_type": "markdown",
   "id": "90506473",
   "metadata": {},
   "source": [
    "# Import Library"
   ]
  },
  {
   "cell_type": "code",
   "execution_count": 5,
   "id": "8517a1d7",
   "metadata": {},
   "outputs": [],
   "source": [
    "import pandas as pd\n",
    "import numpy as np"
   ]
  },
  {
   "cell_type": "code",
   "execution_count": 2,
   "id": "61259ec4",
   "metadata": {},
   "outputs": [
    {
     "name": "stdout",
     "output_type": "stream",
     "text": [
      "    ID Pelanggan     Nama  Jenis Kelamin  Pendapatan Produk   Harga  Jumlah   \\\n",
      "0              1     Arif              1      600000      A  100000        4   \n",
      "1              2     Dian              2     1200000      D  250000        4   \n",
      "2              3    Dinda              2      950000      D  250000        3   \n",
      "3              4    Fajar              1      400000      A  100000        2   \n",
      "4              5      Ika              2     1200000      D  250000        4   \n",
      "5              6    Ilham              1      800000      B  150000        4   \n",
      "6              7    Indra              1      950000      B  150000        5   \n",
      "7              8  Kartika              2     1100000      E  300000        3   \n",
      "8              9  Lestari              2      800000      E  300000        2   \n",
      "9             10      Lia              2     1700000      E  300000        5   \n",
      "10            11    Maria              2      600000      A  100000        4   \n",
      "11            12     Maya              2      950000      B  150000        5   \n",
      "12            13     Mila              2      400000      C  200000        1   \n",
      "13            14    Nurul              2     6450000      D  250000        5   \n",
      "14            15    Retno              2     1000000      C  200000        4   \n",
      "15            16     Rini              2      800000      B  150000        4   \n",
      "16            17    Rizki              1     1200000      C  200000        5   \n",
      "17            18     Sari              2      700000      D  250000        2   \n",
      "18            19     Tyas              2      600000      A  100000        4   \n",
      "19            20    Wahyu              1      800000      C  200000        3   \n",
      "\n",
      "      Total  Tingkat Kepuasan  \n",
      "0    400000                 2  \n",
      "1   1000000                 2  \n",
      "2    750000                 3  \n",
      "3    200000                 3  \n",
      "4   1000000                 2  \n",
      "5    600000                 3  \n",
      "6    750000                 1  \n",
      "7    900000                 3  \n",
      "8    600000                 1  \n",
      "9   1500000                 1  \n",
      "10   400000                 3  \n",
      "11   750000                 3  \n",
      "12   200000                 2  \n",
      "13  1250000                 1  \n",
      "14   800000                 2  \n",
      "15   600000                 1  \n",
      "16  1000000                 3  \n",
      "17   500000                 1  \n",
      "18   400000                 3  \n",
      "19   600000                 1  \n"
     ]
    }
   ],
   "source": [
    "raw_data = pd.read_csv('https://storage.googleapis.com/dqlab-dataset/dataset_statistic.csv', sep = ';')\n",
    "raw_data.head()\n",
    "print(raw_data)"
   ]
  },
  {
   "cell_type": "markdown",
   "id": "2990cfca",
   "metadata": {},
   "source": [
    "# Proporsi Kategori"
   ]
  },
  {
   "cell_type": "code",
   "execution_count": 3,
   "id": "365cfe35",
   "metadata": {},
   "outputs": [
    {
     "name": "stdout",
     "output_type": "stream",
     "text": [
      "Produk\n",
      "D    0.25\n",
      "A    0.20\n",
      "B    0.20\n",
      "C    0.20\n",
      "E    0.15\n",
      "Name: count, dtype: float64\n"
     ]
    }
   ],
   "source": [
    "print(raw_data['Produk'].value_counts()/raw_data.shape[0])"
   ]
  },
  {
   "cell_type": "markdown",
   "id": "820c7ddc",
   "metadata": {},
   "source": [
    "# Range"
   ]
  },
  {
   "cell_type": "code",
   "execution_count": 4,
   "id": "619e36df",
   "metadata": {},
   "outputs": [
    {
     "name": "stdout",
     "output_type": "stream",
     "text": [
      "6050000\n"
     ]
    }
   ],
   "source": [
    "print(raw_data['Pendapatan'].max() - raw_data['Pendapatan'].min())"
   ]
  },
  {
   "cell_type": "markdown",
   "id": "b7bb9e75",
   "metadata": {},
   "source": [
    "# Variansi\n",
    "### Variansi adalah ukuran sebaran pusat yang diperoleh dengan cara menghitung jarak antara tiap titik data pada sampel atau populasi dengan nilai mean"
   ]
  },
  {
   "cell_type": "code",
   "execution_count": 6,
   "id": "66a99fba",
   "metadata": {},
   "outputs": [
    {
     "name": "stdout",
     "output_type": "stream",
     "text": [
      "1645684210526.3157\n",
      "1563400000000.0\n",
      "1563400000000.0\n"
     ]
    }
   ],
   "source": [
    "# menghitung variansi dari pandas\n",
    "print(raw_data['Pendapatan'].var())\n",
    "# menghitung variansi dari numpy\n",
    "print(np.var(raw_data['Pendapatan']))\n",
    "# mengatur variansi dari pandas\n",
    "print(raw_data['Pendapatan'].var(ddof = 0))"
   ]
  },
  {
   "cell_type": "markdown",
   "id": "b0cca933",
   "metadata": {},
   "source": [
    "# Deviasi Baku (Standard Deviation)\n",
    "### Deviasi baku adalah ukuran sebaran pusat yang diperoleh dengan cara menarik akar kuadrat dari hasil perhitungan variansi. Hal ini dilakukan karena nilai variansi umumnya memiliki nilai yang lebih besar daripada nilai aslinya sebagai efek dari pengkuadratan dan ini menjadikan variansi sulit untuk diinterpretasikan."
   ]
  },
  {
   "cell_type": "code",
   "execution_count": 7,
   "id": "99ce5e28",
   "metadata": {},
   "outputs": [
    {
     "name": "stdout",
     "output_type": "stream",
     "text": [
      "1282842.2391417876\n",
      "1282842.2391417876\n"
     ]
    }
   ],
   "source": [
    "# menghitung deviasi baku dari pandas\n",
    "print(raw_data['Pendapatan'].std())\n",
    "# menghitung deviasi baku dari numpy\n",
    "print(np.std(raw_data['Pendapatan'], ddof = 1))"
   ]
  }
 ],
 "metadata": {
  "kernelspec": {
   "display_name": "base",
   "language": "python",
   "name": "python3"
  },
  "language_info": {
   "codemirror_mode": {
    "name": "ipython",
    "version": 3
   },
   "file_extension": ".py",
   "mimetype": "text/x-python",
   "name": "python",
   "nbconvert_exporter": "python",
   "pygments_lexer": "ipython3",
   "version": "3.12.7"
  }
 },
 "nbformat": 4,
 "nbformat_minor": 5
}
