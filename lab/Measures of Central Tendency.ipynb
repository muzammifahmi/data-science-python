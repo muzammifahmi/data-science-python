{
 "cells": [
  {
   "cell_type": "markdown",
   "id": "7fcf4274",
   "metadata": {},
   "source": [
    "# Measures of Central Tendency"
   ]
  },
  {
   "cell_type": "markdown",
   "id": "68d1c18f",
   "metadata": {},
   "source": [
    "## Ukuran pusat (measures of central tendency) adalah statistika deskriptif yang dapat digunakan untuk membantu kita mengidentifikasi kasus-kasus tipikal di dalam sebuah sampel atau populasi\n",
    "\n",
    "## Terdapat beberapa jenis ukuran pusat yang dapat digunakan untuk menganalisa data, diantaranya:\n",
    "## Mean atau rerata\n",
    "## Median\n",
    "## Modus"
   ]
  },
  {
   "cell_type": "markdown",
   "id": "b94091d6",
   "metadata": {},
   "source": [
    "# Import Library"
   ]
  },
  {
   "cell_type": "code",
   "execution_count": 2,
   "id": "f7781596",
   "metadata": {},
   "outputs": [],
   "source": [
    "import numpy as np\n",
    "import pandas as pd"
   ]
  },
  {
   "cell_type": "code",
   "execution_count": 3,
   "id": "21fa6b4a",
   "metadata": {},
   "outputs": [
    {
     "name": "stdout",
     "output_type": "stream",
     "text": [
      "    ID Pelanggan     Nama  Jenis Kelamin  Pendapatan Produk   Harga  Jumlah   \\\n",
      "0              1     Arif              1      600000      A  100000        4   \n",
      "1              2     Dian              2     1200000      D  250000        4   \n",
      "2              3    Dinda              2      950000      D  250000        3   \n",
      "3              4    Fajar              1      400000      A  100000        2   \n",
      "4              5      Ika              2     1200000      D  250000        4   \n",
      "5              6    Ilham              1      800000      B  150000        4   \n",
      "6              7    Indra              1      950000      B  150000        5   \n",
      "7              8  Kartika              2     1100000      E  300000        3   \n",
      "8              9  Lestari              2      800000      E  300000        2   \n",
      "9             10      Lia              2     1700000      E  300000        5   \n",
      "10            11    Maria              2      600000      A  100000        4   \n",
      "11            12     Maya              2      950000      B  150000        5   \n",
      "12            13     Mila              2      400000      C  200000        1   \n",
      "13            14    Nurul              2     6450000      D  250000        5   \n",
      "14            15    Retno              2     1000000      C  200000        4   \n",
      "15            16     Rini              2      800000      B  150000        4   \n",
      "16            17    Rizki              1     1200000      C  200000        5   \n",
      "17            18     Sari              2      700000      D  250000        2   \n",
      "18            19     Tyas              2      600000      A  100000        4   \n",
      "19            20    Wahyu              1      800000      C  200000        3   \n",
      "\n",
      "      Total  Tingkat Kepuasan  \n",
      "0    400000                 2  \n",
      "1   1000000                 2  \n",
      "2    750000                 3  \n",
      "3    200000                 3  \n",
      "4   1000000                 2  \n",
      "5    600000                 3  \n",
      "6    750000                 1  \n",
      "7    900000                 3  \n",
      "8    600000                 1  \n",
      "9   1500000                 1  \n",
      "10   400000                 3  \n",
      "11   750000                 3  \n",
      "12   200000                 2  \n",
      "13  1250000                 1  \n",
      "14   800000                 2  \n",
      "15   600000                 1  \n",
      "16  1000000                 3  \n",
      "17   500000                 1  \n",
      "18   400000                 3  \n",
      "19   600000                 1  \n"
     ]
    }
   ],
   "source": [
    "raw_data = pd.read_csv('https://storage.googleapis.com/dqlab-dataset/dataset_statistic.csv', sep=';')\n",
    "raw_data.head()\n",
    "print(raw_data)"
   ]
  },
  {
   "cell_type": "markdown",
   "id": "2ada3100",
   "metadata": {},
   "source": [
    "# Mean (Rata-rata)"
   ]
  },
  {
   "cell_type": "code",
   "execution_count": null,
   "id": "3edecaad",
   "metadata": {},
   "outputs": [],
   "source": [
    "#mengambil data hanya untuk produk A\n",
    "Produk_A = raw_data[raw_data['Produk'] == 'A']"
   ]
  },
  {
   "cell_type": "code",
   "execution_count": 5,
   "id": "1b686834",
   "metadata": {},
   "outputs": [
    {
     "name": "stdout",
     "output_type": "stream",
     "text": [
      "550000.0\n"
     ]
    }
   ],
   "source": [
    "#menghitung mean menggunakan method .mean() pada objek pandas DataFrame\n",
    "print(Produk_A['Pendapatan'].mean())"
   ]
  },
  {
   "cell_type": "code",
   "execution_count": 6,
   "id": "1de074d3",
   "metadata": {},
   "outputs": [
    {
     "name": "stdout",
     "output_type": "stream",
     "text": [
      "550000.0\n"
     ]
    }
   ],
   "source": [
    "#menghitung mean menggunakan method .mean() pada objek pandas DataFrame dengan numpy\n",
    "print(np.mean(Produk_A['Pendapatan']))"
   ]
  },
  {
   "cell_type": "markdown",
   "id": "bdcc1d71",
   "metadata": {},
   "source": [
    "# Median"
   ]
  },
  {
   "cell_type": "code",
   "execution_count": 7,
   "id": "ac544455",
   "metadata": {},
   "outputs": [
    {
     "name": "stdout",
     "output_type": "stream",
     "text": [
      "600000.0\n"
     ]
    }
   ],
   "source": [
    "#pengambilan median menggunakan pandas\n",
    "print(Produk_A['Pendapatan'].median())"
   ]
  },
  {
   "cell_type": "code",
   "execution_count": 8,
   "id": "125fe6e3",
   "metadata": {},
   "outputs": [
    {
     "name": "stdout",
     "output_type": "stream",
     "text": [
      "600000.0\n"
     ]
    }
   ],
   "source": [
    "#menghitung mean menggunakan numpy\n",
    "print(np.median(Produk_A['Pendapatan']))"
   ]
  },
  {
   "cell_type": "markdown",
   "id": "b9d7e05b",
   "metadata": {},
   "source": [
    "# Modus"
   ]
  },
  {
   "cell_type": "code",
   "execution_count": 10,
   "id": "1ae903fd",
   "metadata": {},
   "outputs": [
    {
     "name": "stdout",
     "output_type": "stream",
     "text": [
      "Produk\n",
      "D    5\n",
      "A    4\n",
      "B    4\n",
      "C    4\n",
      "E    3\n",
      "Name: count, dtype: int64\n"
     ]
    }
   ],
   "source": [
    "print(raw_data['Produk'].value_counts())"
   ]
  },
  {
   "cell_type": "markdown",
   "id": "c50ce3f8",
   "metadata": {},
   "source": []
  },
  {
   "cell_type": "markdown",
   "id": "29eb3cb8",
   "metadata": {},
   "source": [
    "# Quantile"
   ]
  },
  {
   "cell_type": "code",
   "execution_count": 15,
   "id": "a498f9b1",
   "metadata": {},
   "outputs": [
    {
     "name": "stdout",
     "output_type": "stream",
     "text": [
      "875000.0\n"
     ]
    }
   ],
   "source": [
    "# mencari quantil dengan pandas\n",
    "print(raw_data['Pendapatan'].quantile(q = 0.5))"
   ]
  },
  {
   "cell_type": "code",
   "execution_count": 14,
   "id": "43d9990b",
   "metadata": {},
   "outputs": [
    {
     "name": "stdout",
     "output_type": "stream",
     "text": [
      "875000.0\n"
     ]
    }
   ],
   "source": [
    "print(np.quantile(raw_data['Pendapatan'], q = 0.5))"
   ]
  },
  {
   "cell_type": "markdown",
   "id": "857111c8",
   "metadata": {},
   "source": [
    "# Agregasi Data dengan method .agg()"
   ]
  },
  {
   "cell_type": "code",
   "execution_count": 16,
   "id": "0717cb62",
   "metadata": {},
   "outputs": [
    {
     "name": "stdout",
     "output_type": "stream",
     "text": [
      "        Pendapatan     Harga\n",
      "mean     1160000.0  197500.0\n",
      "median    875000.0  200000.0\n"
     ]
    },
    {
     "name": "stderr",
     "output_type": "stream",
     "text": [
      "C:\\Users\\muzammi\\AppData\\Local\\Temp\\ipykernel_25188\\2078160350.py:1: FutureWarning: The provided callable <function mean at 0x000001BD0737DC60> is currently using Series.mean. In a future version of pandas, the provided callable will be used directly. To keep current behavior pass the string \"mean\" instead.\n",
      "  print(raw_data[['Pendapatan', 'Harga']].agg([np.mean, np.median]))\n",
      "C:\\Users\\muzammi\\AppData\\Local\\Temp\\ipykernel_25188\\2078160350.py:1: FutureWarning: The provided callable <function median at 0x000001BD07518180> is currently using Series.median. In a future version of pandas, the provided callable will be used directly. To keep current behavior pass the string \"median\" instead.\n",
      "  print(raw_data[['Pendapatan', 'Harga']].agg([np.mean, np.median]))\n"
     ]
    }
   ],
   "source": [
    "print(raw_data[['Pendapatan', 'Harga']].agg([np.mean, np.median]))"
   ]
  },
  {
   "cell_type": "code",
   "execution_count": 17,
   "id": "2b302c7a",
   "metadata": {},
   "outputs": [
    {
     "name": "stdout",
     "output_type": "stream",
     "text": [
      "       Pendapatan                Harga          \n",
      "             mean     median      mean    median\n",
      "Produk                                          \n",
      "A        550000.0   600000.0  100000.0  100000.0\n",
      "B        875000.0   875000.0  150000.0  150000.0\n",
      "C        850000.0   900000.0  200000.0  200000.0\n",
      "D       2100000.0  1200000.0  250000.0  250000.0\n",
      "E       1200000.0  1100000.0  300000.0  300000.0\n"
     ]
    },
    {
     "name": "stderr",
     "output_type": "stream",
     "text": [
      "C:\\Users\\muzammi\\AppData\\Local\\Temp\\ipykernel_25188\\1703291679.py:1: FutureWarning: The provided callable <function mean at 0x000001BD0737DC60> is currently using SeriesGroupBy.mean. In a future version of pandas, the provided callable will be used directly. To keep current behavior pass the string \"mean\" instead.\n",
      "  print(raw_data[['Pendapatan', 'Harga', 'Produk']].groupby('Produk').agg([np.mean, np.median]))\n",
      "C:\\Users\\muzammi\\AppData\\Local\\Temp\\ipykernel_25188\\1703291679.py:1: FutureWarning: The provided callable <function median at 0x000001BD07518180> is currently using SeriesGroupBy.median. In a future version of pandas, the provided callable will be used directly. To keep current behavior pass the string \"median\" instead.\n",
      "  print(raw_data[['Pendapatan', 'Harga', 'Produk']].groupby('Produk').agg([np.mean, np.median]))\n",
      "C:\\Users\\muzammi\\AppData\\Local\\Temp\\ipykernel_25188\\1703291679.py:1: FutureWarning: The provided callable <function mean at 0x000001BD0737DC60> is currently using SeriesGroupBy.mean. In a future version of pandas, the provided callable will be used directly. To keep current behavior pass the string \"mean\" instead.\n",
      "  print(raw_data[['Pendapatan', 'Harga', 'Produk']].groupby('Produk').agg([np.mean, np.median]))\n"
     ]
    }
   ],
   "source": [
    "print(raw_data[['Pendapatan', 'Harga', 'Produk']].groupby('Produk').agg([np.mean, np.median]))"
   ]
  }
 ],
 "metadata": {
  "kernelspec": {
   "display_name": "base",
   "language": "python",
   "name": "python3"
  },
  "language_info": {
   "codemirror_mode": {
    "name": "ipython",
    "version": 3
   },
   "file_extension": ".py",
   "mimetype": "text/x-python",
   "name": "python",
   "nbconvert_exporter": "python",
   "pygments_lexer": "ipython3",
   "version": "3.12.7"
  }
 },
 "nbformat": 4,
 "nbformat_minor": 5
}
